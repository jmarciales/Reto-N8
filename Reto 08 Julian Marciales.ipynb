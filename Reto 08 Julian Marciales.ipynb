{
 "cells": [
  {
   "cell_type": "markdown",
   "metadata": {},
   "source": [
    "# PROBLEMA 1\n",
    "De los retos anteriores selecione 3 funciones y escribalas en forma de lambdas."
   ]
  },
  {
   "cell_type": "code",
   "execution_count": null,
   "metadata": {},
   "outputs": [],
   "source": [
    "kilos_totales = lambda N, M, K: (\n",
    "    N * 7 +   # kilos de gallinas\n",
    "    M * 1 +   # kilos de gallos\n",
    "    K * 1     # kilos de pollitos\n",
    ")"
   ]
  },
  {
   "cell_type": "code",
   "execution_count": null,
   "metadata": {},
   "outputs": [],
   "source": [
    "valor_prestamo = lambda C, i, n: (\n",
    "    C *                  # Capital inicial\n",
    "    (1 + i/100) ** (n/12)  # Formula de interes compuesto\n",
    ")"
   ]
  },
  {
   "cell_type": "code",
   "execution_count": null,
   "metadata": {},
   "outputs": [],
   "source": [
    "es_primo = lambda num: (\n",
    "    False if num <= 1 else  # Numeros menores o iguales a 1 no son primos\n",
    "    all(\n",
    "        num % divisor != 0  # Verificar divisibilidad\n",
    "        for divisor in range(2, int(num**0.5) + 1)\n",
    "    )\n",
    ")"
   ]
  },
  {
   "cell_type": "markdown",
   "metadata": {},
   "source": [
    "# PROBLEMA 2 \n",
    "De los retos anteriores selecione 3 funciones y escribalas con argumentos no definidos (*args)."
   ]
  },
  {
   "cell_type": "code",
   "execution_count": null,
   "metadata": {},
   "outputs": [],
   "source": [
    "def area(*args):\n",
    "    return math.pi * args[0]**2\n",
    "\n",
    "def perimetro(*args):\n",
    "    return 2 * math.pi * args[0]"
   ]
  },
  {
   "cell_type": "code",
   "execution_count": null,
   "metadata": {},
   "outputs": [],
   "source": [
    "def promedio(*args):\n",
    "    return sum(args) / len(args)\n",
    "\n",
    "def promedio_multiplicativo(*args):\n",
    "    prod = 1\n",
    "    for num in args:\n",
    "        prod *= num\n",
    "    return prod**(1/len(args))\n",
    "\n",
    "def inicio_potencia(*args):\n",
    "    mayor = max(args)\n",
    "    menor = min(args)\n",
    "    return mayor ** menor\n",
    "\n",
    "def inicio_raiz(*args):\n",
    "    menor = min(args)\n",
    "    return math.sqrt(menor)"
   ]
  },
  {
   "cell_type": "code",
   "execution_count": null,
   "metadata": {},
   "outputs": [],
   "source": [
    "def punto_en_circulo(*args):\n",
    "    x_centro, y_centro, radio, x_punto, y_punto = args\n",
    "    distancia_cuadrada = (x_punto - x_centro)**2 + (y_punto - y_centro)**2\n",
    "    radio_cuadrado = radio**2\n",
    "    \n",
    "    if distancia_cuadrada < radio_cuadrado:\n",
    "        return \"El punto esta dentro del circulo.\"\n",
    "    elif distancia_cuadrada == radio_cuadrado:\n",
    "        return \"El punto esta sobre el circulo.\"\n",
    "    else:\n",
    "        return \"El punto esta fuera del circulo.\""
   ]
  },
  {
   "cell_type": "markdown",
   "metadata": {},
   "source": [
    "# PROBLEMA 3 \n",
    "Escriba una funcion recursiva para calcular la operacion de la potencia."
   ]
  },
  {
   "cell_type": "code",
   "execution_count": null,
   "metadata": {},
   "outputs": [],
   "source": [
    "def potencia_recursiva(base, exponente):\n",
    "    # Caso base: cualquier número elevado a 0 es 1\n",
    "    if exponente == 0:\n",
    "        return 1\n",
    "    \n",
    "    # Caso base: exponente negativo\n",
    "    if exponente < 0:\n",
    "        return 1 / potencia_recursiva(base, -exponente)\n",
    "    \n",
    "    # Caso recursivo: multiplicar base por potencia recursiva\n",
    "    if exponente == 1:\n",
    "        return base\n",
    "    \n",
    "    return base * potencia_recursiva(base, exponente - 1)"
   ]
  },
  {
   "cell_type": "markdown",
   "metadata": {},
   "source": [
    "# Problema 4 \n",
    "Utilice la siguiente plantilla de code para contar el tiempo:"
   ]
  },
  {
   "cell_type": "code",
   "execution_count": null,
   "metadata": {},
   "outputs": [],
   "source": [
    "import time\n",
    "\n",
    "start_time = time.time()\n",
    "# instrucciones sobre las cuales se quiere medir tiempo de ejecución\n",
    "end_time = time.time()\n",
    "\n",
    "timer = end_time - start_time\n",
    "print(timer)"
   ]
  },
  {
   "cell_type": "markdown",
   "metadata": {},
   "source": [
    "Realice pruebas para calcular fibonacci con iteración o con recursión. Determine desde que número de la serie la diferencia de tiempo se vuelve significativa."
   ]
  },
  {
   "cell_type": "code",
   "execution_count": null,
   "metadata": {},
   "outputs": [],
   "source": [
    "import time\n",
    "\n",
    "start_time = time.time()\n",
    "# instrucciones sobre las cuales se quiere medir tiempo de ejecución\n",
    "\n",
    "# Implementación iterativa de Fibonacci\n",
    "def fibonacci_iterativo(n):\n",
    "    a, b = 0, 1\n",
    "    for _ in range(n):\n",
    "        a, b = b, a + b\n",
    "    return a\n",
    "\n",
    "# Implementación recursiva de Fibonacci\n",
    "def fibonacci_recursivo(n):\n",
    "    if n <= 1:\n",
    "        return n\n",
    "    return fibonacci_recursivo(n-1) + fibonacci_recursivo(n-2)\n",
    "\n",
    "numeros = [10, 20, 30, 35, 40]\n",
    "\n",
    "for num in numeros:\n",
    "    print(\"Número:\", num)\n",
    "    \n",
    "    # Fibonacci iterativo\n",
    "    start_time = time.time()\n",
    "    res_iter = fibonacci_iterativo(num)\n",
    "    end_time = time.time()\n",
    "    timer_iter = end_time - start_time\n",
    "    print(\"Iterativo - Resultado:\", res_iter)\n",
    "    print(\"Tiempo de ejecución:\", timer_iter)\n",
    "    \n",
    "    # Fibonacci recursivo\n",
    "    start_time = time.time()\n",
    "    res_rec = fibonacci_recursivo(num)\n",
    "    end_time = time.time()\n",
    "    timer_rec = end_time - start_time\n",
    "    print(\"Recursivo - Resultado:\", res_rec)\n",
    "    print(\"Tiempo de ejecución:\", timer_rec)\n",
    "    print()"
   ]
  }
 ],
 "metadata": {
  "kernelspec": {
   "display_name": "Python 3",
   "language": "python",
   "name": "python3"
  },
  "language_info": {
   "name": "python",
   "version": "3.12.4"
  }
 },
 "nbformat": 4,
 "nbformat_minor": 2
}
